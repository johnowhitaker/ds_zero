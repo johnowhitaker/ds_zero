{
 "cells": [
  {
   "cell_type": "code",
   "execution_count": null,
   "metadata": {},
   "outputs": [],
   "source": [
    "#hide\n",
    "from ds_zero.core import *"
   ]
  },
  {
   "cell_type": "markdown",
   "metadata": {},
   "source": [
    "# DS Zero\n",
    "\n",
    "> A Lightning Introduction to some basic Data Science tools and concepts."
   ]
  },
  {
   "cell_type": "markdown",
   "metadata": {},
   "source": [
    "I'm working with some cool people at the moment, and we've decided to try and learn some Data Science together. This project is going to end up being some combination of:\n",
    "- A short 'course' with some learning material and lots of exercises\n",
    "- A collection of links to other great resources\n",
    "- One or more 'suggested learning paths' - routes we find helpful for others wanting to learn and not sure where to start.\n",
    "\n",
    "We're all pretty busy, so I'm going to try and keep things as minimal as possible. \n",
    "\n",
    "This whole thing is built with NBDev. It should be up on https://johnowhitaker.github.io/ds_zero/, all built in Jupyter Notebooks."
   ]
  },
  {
   "cell_type": "markdown",
   "metadata": {},
   "source": [
    "## What are we learning?\n",
    "\n",
    "Data Science is"
   ]
  },
  {
   "cell_type": "markdown",
   "metadata": {},
   "source": [
    "## The Plan\n",
    "\n",
    "### Lesson 1 - Meet the Tools\n",
    "\n",
    "In this lesson, we do a lightning overview of some of the libraries we'll use in the next three or four lessons. You'll load your first dataset with pandas, make some pretty plots with matplotlib and get an early preview of machine learning in action. \n",
    "\n",
    "At the bottom of the notebook are some exercises - finish those and you'll be good and ready for lesson 2.\n",
    "\n",
    "### Lesson 2 - Data Cleaning & Visualization\n",
    "\n",
    "At the end of lesson 1 we saw a machine learning model being created, trained and used to make predictions... in three lines of code. We don't understand that code yet, but it hints at a secret: the machine learning bit is often the easy part. So for this lesson, we look more closely at the steps that come before the modelling: data cleaning and exploration.\n",
    "\n",
    "### Lesson 3 - Supervised Learning\n",
    "\n",
    "With some basics covered, let's revisit the machine learning example from lesson one and build on that, exploring some of the different kinds of tasks you may encounter, playing with different methods and learning how to choose the best tool for the job.\n",
    "\n",
    "### Lesson 4 - Entering Competitions (Practice)\n",
    "\n",
    "Putting the lessons into practice, and learning some extra tips to make our models better.\n",
    "\n",
    "### Lesson 5 - Deep Learning: Image Classification\n",
    "\n",
    "Image Classification is one of the most popular applications of deep learning. This lesson shows how easy it can be, and gives a starting point for going deeper into this topic.\n",
    "\n",
    "### Lesson 6 - Where Next?\n",
    "\n",
    "There are many topics not covered here - where would one go to lern more? A collection of resources and suggestions, as well as some final project ideas"
   ]
  },
  {
   "cell_type": "markdown",
   "metadata": {},
   "source": [
    "## Resources & References\n",
    "\n",
    "- Colab tips and tricks: https://amitness.com/2020/06/google-colaboratory-tips/\n",
    "- Lewis Tunstall's DS Lecture Notes: https://lewtun.github.io/dslectures/\n",
    "- The ultimate Matplotlib notebook: https://colab.research.google.com/drive/1Pfjg84GCoiT_7NNm0tQufu3dIwKduOIR?usp=sharing \n",
    "- Fastai course: http://course.fast.ai/\n",
    "\n",
    "\n",
    "We'll keep this section updated as we add more content."
   ]
  },
  {
   "cell_type": "code",
   "execution_count": null,
   "metadata": {},
   "outputs": [],
   "source": []
  }
 ],
 "metadata": {
  "kernelspec": {
   "display_name": "Python 3",
   "language": "python",
   "name": "python3"
  }
 },
 "nbformat": 4,
 "nbformat_minor": 2
}
