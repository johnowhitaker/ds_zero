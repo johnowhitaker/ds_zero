{
 "cells": [
  {
   "cell_type": "code",
   "execution_count": null,
   "metadata": {},
   "outputs": [],
   "source": [
    "#hide\n",
    "from ds_zero.core import *"
   ]
  },
  {
   "cell_type": "markdown",
   "metadata": {},
   "source": [
    "# DS Zero\n",
    "\n",
    "> A Lightning Introduction to some basic Data Science tools and concepts."
   ]
  },
  {
   "cell_type": "markdown",
   "metadata": {},
   "source": [
    "I'm working with some cool people at the moment, and we've decided to try and learn some Data Science together. This project is going to end up being some combination of:\n",
    "- A short 'course' with some learning material and lots of exercises\n",
    "- A collection of links to other great resources\n",
    "- One or more 'suggested learning paths' - routes we find helpful for others wanting to learn and not sure where to start.\n",
    "\n",
    "We're all pretty busy, so I'm going to try and keep things as minimal as possible. \n",
    "\n",
    "This whole thing is built with NBDev. It should be up on https://johnowhitaker.github.io/ds_zero/, all built in Jupyter Notebooks."
   ]
  },
  {
   "cell_type": "code",
   "execution_count": null,
   "metadata": {},
   "outputs": [],
   "source": []
  }
 ],
 "metadata": {
  "kernelspec": {
   "display_name": "Python 3",
   "language": "python",
   "name": "python3"
  }
 },
 "nbformat": 4,
 "nbformat_minor": 2
}
